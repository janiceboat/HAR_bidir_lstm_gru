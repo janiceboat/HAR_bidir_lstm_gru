{
 "cells": [
  {
   "cell_type": "code",
   "execution_count": null,
   "metadata": {
    "id": "mY8bxn5GKGfF"
   },
   "outputs": [],
   "source": [
    "import pandas as pd\n",
    "from string import digits\n",
    "import numpy as np\n",
    "import torch\n",
    "import torch.nn as nn"
   ]
  },
  {
   "cell_type": "code",
   "execution_count": null,
   "metadata": {
    "id": "2A933Otmn8m5"
   },
   "outputs": [],
   "source": [
    "def convert_keypoint_data_2D(path,window = 45,step = 5):\n",
    "    df=pd.read_csv(path)\n",
    "    pivoted_df = df.pivot_table(index=['video_name', 'frame_number'], columns='landmark', values=['x', 'y']).reset_index()\n",
    "    df_label =  pd.get_dummies(pivoted_df['video_name'].str.rstrip(digits), sparse=True)\n",
    "    X_list_final = []\n",
    "    Y_list_final = []\n",
    "\n",
    "    for videoname in  df['video_name'].unique():\n",
    "        row_idx = pivoted_df['video_name']==videoname\n",
    "        input_list = pivoted_df[row_idx].values.tolist()\n",
    "        label_list =df_label[row_idx].values.tolist()\n",
    "        X_list = []\n",
    "        Y_list = []\n",
    "        begin = 60\n",
    "        while begin <= len(input_list)-window-1:\n",
    "            framerange = range(begin, begin+window, 1)\n",
    "            temp_x_list = []\n",
    "            for idx in framerange:\n",
    "                temp_x_list.append(input_list[idx][2:32])\n",
    "            X_list.append(temp_x_list)\n",
    "            Y_list.append(np.array(label_list[begin+window-1]))\n",
    "            begin = begin + step\n",
    "        X_list_final.extend(X_list)\n",
    "        Y_list_final.extend(Y_list)\n",
    "\n",
    "    x_input = np.array(X_list_final).astype('float')\n",
    "    y_input = np.array(Y_list_final).astype('int')\n",
    "    return x_input,y_input"
   ]
  },
  {
   "cell_type": "code",
   "execution_count": null,
   "metadata": {
    "id": "ypTbq7jDo7R8"
   },
   "outputs": [],
   "source": [
    "def convert_keypoint_data_3D(path,window = 45,step = 5):\n",
    "    df=pd.read_csv(path)\n",
    "    pivoted_df = df.pivot_table(index=['video_name', 'frame_number'], columns='landmark', values=['x', 'y', 'z']).reset_index()\n",
    "    df_label =  pd.get_dummies(pivoted_df['video_name'].str.rstrip(digits), sparse=True)\n",
    "    X_list_final = []\n",
    "    Y_list_final = []\n",
    "\n",
    "    for videoname in  df['video_name'].unique():\n",
    "        row_idx = pivoted_df['video_name']==videoname\n",
    "        input_list = pivoted_df[row_idx].values.tolist()\n",
    "        label_list =df_label[row_idx].values.tolist()\n",
    "        X_list = []\n",
    "        Y_list = []\n",
    "        begin = 60\n",
    "        while begin <= len(input_list)-window-1:\n",
    "            framerange = range(begin, begin+window, 1)\n",
    "            temp_x_list = []\n",
    "            for idx in framerange:\n",
    "                temp_x_list.append(input_list[idx][2:32])\n",
    "            X_list.append(temp_x_list)\n",
    "            Y_list.append(np.array(label_list[begin+window-1]))\n",
    "            begin = begin + step\n",
    "        X_list_final.extend(X_list)\n",
    "        Y_list_final.extend(Y_list)\n",
    "\n",
    "    x_input = np.array(X_list_final).astype('float')\n",
    "    y_input = np.array(Y_list_final).astype('int')\n",
    "    return x_input,y_input"
   ]
  },
  {
   "cell_type": "code",
   "execution_count": null,
   "metadata": {
    "id": "HsVPz2fLpBBW"
   },
   "outputs": [],
   "source": [
    "def convert_keypoint_data_angle(angle_path,window = 45,step = 5):\n",
    "    df=pd.read_csv(angle_path)\n",
    "    df_label =  pd.get_dummies(df['video_name'].str.rstrip(digits), sparse=True)\n",
    "    X_list_final = []\n",
    "    Y_list_final = []\n",
    "\n",
    "    for videoname in  df['video_name'].unique():\n",
    "        row_idx = df['video_name']==videoname\n",
    "        input_list = df[row_idx].values.tolist()\n",
    "        label_list =df_label[row_idx].values.tolist()\n",
    "        X_list = []\n",
    "        Y_list = []\n",
    "        begin = 60\n",
    "        while begin <= len(input_list)-window-1:\n",
    "            framerange = range(begin, begin+window, 1)\n",
    "            temp_x_list = []\n",
    "            for idx in framerange:\n",
    "                temp_x_list.append(input_list[idx][2:12])\n",
    "            X_list.append(temp_x_list)\n",
    "            Y_list.append(np.array(label_list[begin+window-1]))\n",
    "            begin = begin + step\n",
    "        X_list_final.extend(X_list)\n",
    "        Y_list_final.extend(Y_list)\n",
    "\n",
    "    x_input = np.array(X_list_final).astype('float')\n",
    "    y_input = np.array(Y_list_final).astype('int')\n",
    "    return x_input,y_input"
   ]
  },
  {
   "cell_type": "code",
   "execution_count": null,
   "metadata": {
    "id": "FFSMERZlLuVW"
   },
   "outputs": [],
   "source": [
    "def convert_keypoint_data_2D_angle(path,angle_path,window = 45,step = 5):\n",
    "    df=pd.read_csv(path)\n",
    "    angle_df=pd.read_csv(angle_path)\n",
    "    pivoted_df = df.pivot_table(index=['video_name', 'frame_number'], columns='landmark', values=['x', 'y']).reset_index()\n",
    "    pivoted_df.columns = pivoted_df.columns.get_level_values(0)\n",
    "    merge_df = pd.merge(pivoted_df, angle_df)\n",
    "\n",
    "    df_label =  pd.get_dummies(pivoted_df['video_name'].str.rstrip(digits), sparse=True)\n",
    "    X_list_final = []\n",
    "    Y_list_final = []\n",
    "\n",
    "    for videoname in  df['video_name'].unique():\n",
    "        row_idx = merge_df['video_name']==videoname\n",
    "        input_list = merge_df[row_idx].values.tolist()\n",
    "        label_list =df_label[row_idx].values.tolist()\n",
    "        X_list = []\n",
    "        Y_list = []\n",
    "        begin = 60\n",
    "        while begin <= len(input_list)-window-1:\n",
    "            framerange = range(begin, begin+window, 1)\n",
    "            temp_x_list = []\n",
    "            for idx in framerange:\n",
    "                temp_x_list.append(input_list[idx][2:32])\n",
    "            X_list.append(temp_x_list)\n",
    "            Y_list.append(np.array(label_list[begin+window-1]))\n",
    "            begin = begin + step\n",
    "        X_list_final.extend(X_list)\n",
    "        Y_list_final.extend(Y_list)\n",
    "\n",
    "    x_input = np.array(X_list_final).astype('float')\n",
    "    y_input = np.array(Y_list_final).astype('int')\n",
    "    return x_input,y_input"
   ]
  },
  {
   "cell_type": "code",
   "execution_count": null,
   "metadata": {
    "id": "lsIwzP75KwIx"
   },
   "outputs": [],
   "source": [
    "device = 'cuda' if torch.cuda.is_available() else 'cpu'\n",
    "device"
   ]
  },
  {
   "cell_type": "code",
   "execution_count": null,
   "metadata": {
    "id": "KJfRr_t9Kj0e"
   },
   "outputs": [],
   "source": [
    "import torch\n",
    "import torch.nn as nn\n",
    "\n",
    "class ResidualBlock_1(nn.Module):\n",
    "    def __init__(self, input_size, hidden_size):\n",
    "        super(ResidualBlock_1, self).__init__()\n",
    "        self.relu1 = nn.Sequential(nn.Linear(input_size, input_size),\n",
    "                          nn.ReLU())\n",
    "        self.gru1 = nn.GRU(input_size, hidden_size, batch_first=True, bidirectional=True)\n",
    "        self.relu2 = nn.Sequential(nn.Linear(hidden_size*2, input_size),\n",
    "                                   nn.ReLU()\n",
    "                                   )\n",
    "        self.gru2 = nn.GRU(input_size, int(hidden_size), batch_first=True, bidirectional=True)\n",
    "        self.relu3 = nn.Sequential(nn.Linear(hidden_size*2, input_size),\n",
    "                            nn.ReLU()\n",
    "                            )\n",
    "        self.BN = nn.BatchNorm1d(45, affine=False)\n",
    "\n",
    "    def forward(self, x):\n",
    "        out = self.relu1(x)\n",
    "        out, _ = self.gru1(out)\n",
    "        out_1 = self.relu2(out)\n",
    "        out, _ = self.gru2(out_1)\n",
    "        out = self.relu3(out)\n",
    "        out = torch.add(out, out_1)\n",
    "        out = self.BN(out)\n",
    "        return out\n",
    "\n",
    "class ResidualBlock_2(nn.Module):\n",
    "    def __init__(self, input_size, hidden_size):\n",
    "        super(ResidualBlock_2, self).__init__()\n",
    "        self.gru1 = nn.GRU(input_size, hidden_size, batch_first=True, bidirectional=True)\n",
    "        self.relu2 = nn.Sequential(nn.Linear(hidden_size*2, input_size),\n",
    "                                   nn.ReLU()\n",
    "                                   )\n",
    "        self.gru2 = nn.GRU(input_size, hidden_size, batch_first=True, bidirectional=True)\n",
    "        self.relu3 = nn.Sequential(nn.Linear(hidden_size*2, input_size),\n",
    "                                   nn.ReLU()\n",
    "                                   )\n",
    "        self.BN1 = nn.BatchNorm1d(45, affine=False)\n",
    "\n",
    "    def forward(self, x):\n",
    "        out, _ = self.gru1(x)\n",
    "        out_1 = self.relu2(out)\n",
    "        out,_ = self.gru2(out_1)\n",
    "        out = self.relu3(out)\n",
    "        out = torch.add(out, out_1)\n",
    "        out = self.BN1(out)\n",
    "\n",
    "        return out\n",
    "\n",
    "class DeepResidualBidirGRU(nn.Module):\n",
    "    def __init__(self, input_size, hidden_size, output_size):\n",
    "        super(DeepResidualBidirGRU, self).__init__()\n",
    "        self.input_size = input_size\n",
    "        self.hidden_size = hidden_size\n",
    "        self.output_size = output_size\n",
    "        self.res_block1 = ResidualBlock_1(input_size, hidden_size)\n",
    "        self.res_block2 = ResidualBlock_2(input_size, hidden_size)\n",
    "        self.linear = nn.Linear(input_size, output_size)\n",
    "\n",
    "    def forward(self, x):\n",
    "        out = self.res_block1(x)\n",
    "        out = self.res_block2(out)\n",
    "        out = self.linear(out)\n",
    "        return out\n",
    "\n",
    "    def compute_l2_loss(self, w):\n",
    "          return torch.square(w).sum()\n",
    "\n",
    "model = DeepResidualBidirGRU(input_size=30, hidden_size=128, output_size=3).to(device)\n",
    "print(model)"
   ]
  },
  {
   "cell_type": "code",
   "execution_count": null,
   "metadata": {
    "id": "HrWS0kAK8Xpg"
   },
   "outputs": [],
   "source": [
    "class GRUModel(nn.Module):\n",
    "    def __init__(self, input_size, hidden_size, output_size):\n",
    "        super(GRUModel, self).__init__()\n",
    "        self.input_size = input_size\n",
    "        self.hidden_size = hidden_size\n",
    "        self.output_size = output_size\n",
    "\n",
    "        self.gru = nn.GRU(input_size, hidden_size, num_layers=1, batch_first=True)\n",
    "        self.fc = nn.Linear(hidden_size, output_size)\n",
    "\n",
    "    def forward(self, x):\n",
    "        out, _ = self.gru(x)\n",
    "        out = self.fc(out)\n",
    "        return out\n",
    "\n",
    "model = GRUModel(input_size=30, hidden_size=128, output_size=3).to(device)\n",
    "print(model)"
   ]
  },
  {
   "cell_type": "code",
   "execution_count": null,
   "metadata": {
    "id": "bydTI7-_LxL8"
   },
   "outputs": [],
   "source": [
    "X_train,y_train = convert_keypoint_data_2D_angle(r'/content/output_data2_train.csv', r'/content/angle_data_train.csv')\n",
    "X_test,y_test = convert_keypoint_data_2D_angle(r'/content/output_data2_test.csv', r'/content/angle_data_test.csv')"
   ]
  },
  {
   "cell_type": "code",
   "execution_count": null,
   "metadata": {
    "id": "YRxtEJBVfm4E"
   },
   "outputs": [],
   "source": [
    "original_array = np.array(y_train)\n",
    "\n",
    "# Define a function to convert the original array\n",
    "def convert_array(original):\n",
    "    return np.argmax(original, axis=1)\n",
    "\n",
    "y_train_array = convert_array(original_array)\n",
    "print(y_train_array)"
   ]
  },
  {
   "cell_type": "code",
   "execution_count": null,
   "metadata": {
    "id": "ZqWfa9HbLCqb"
   },
   "outputs": [],
   "source": [
    "class_sample_count = np.array(\n",
    "    [len(np.where(y_train_array == t)[0]) for t in np.unique(y_train_array)])\n",
    "weight = 1. / class_sample_count\n",
    "sample_weight = np.array([weight[t-1] for t in y_train_array])"
   ]
  },
  {
   "cell_type": "code",
   "execution_count": null,
   "metadata": {
    "id": "gATlrubuLFGO"
   },
   "outputs": [],
   "source": [
    "from torch.utils.data import WeightedRandomSampler\n",
    "sampler = WeightedRandomSampler(weights=sample_weight,num_samples=len(y_train),replacement=True)"
   ]
  },
  {
   "cell_type": "code",
   "execution_count": null,
   "metadata": {
    "id": "THhBoXepLGlE"
   },
   "outputs": [],
   "source": [
    "import torch\n",
    "from torch.utils.data import TensorDataset, DataLoader\n",
    "\n",
    "# Assuming X_train and y_train are your training input and output tensors, and batch_size is the desired batch size.\n",
    "X_train_tensor = torch.tensor(X_train, dtype=torch.float32).to(device)\n",
    "y_train_tensor = torch.tensor(y_train, dtype=torch.long).to(device)\n",
    "# Convert your data to TensorDataset\n",
    "train_dataset = TensorDataset(X_train_tensor, y_train_tensor)\n",
    "\n",
    "# Create a DataLoader for your training dataset\n",
    "train_loader = DataLoader(train_dataset, batch_size=16, sampler=sampler)"
   ]
  },
  {
   "cell_type": "code",
   "execution_count": null,
   "metadata": {
    "id": "KOMRjfjVLPj7"
   },
   "outputs": [],
   "source": [
    "criterion = nn.CrossEntropyLoss()\n",
    "optimizer = torch.optim.AdamW(model.parameters(), lr=0.00001, weight_decay=0.1)\n",
    "num_epochs = 25"
   ]
  },
  {
   "cell_type": "code",
   "execution_count": null,
   "metadata": {
    "id": "Kxy9PDsULQ7C"
   },
   "outputs": [],
   "source": [
    "for epoch in range(num_epochs):\n",
    "    model.train()  # Set the model to training mode\n",
    "    running_loss = 0.0\n",
    "    for inputs, labels in train_loader:  # Iterate over the training dataset\n",
    "        optimizer.zero_grad()  # Zero the gradients\n",
    "        outputs = model(inputs)  # Forward pass\n",
    "        loss = criterion(outputs, labels)  # Calculate the loss\n",
    "        loss.backward()  # Backpropagation\n",
    "        optimizer.step()  # Update the weights\n",
    "        running_loss += loss.item() * inputs.size(0)\n",
    "\n",
    "    epoch_loss = running_loss / len(train_loader.dataset)\n",
    "    print(f'Epoch [{epoch+1}/{num_epochs}], Loss: {epoch_loss:.4f}')\n",
    "\n",
    "print('Training Finished')"
   ]
  },
  {
   "cell_type": "code",
   "execution_count": null,
   "metadata": {
    "id": "GW-8XSMOLSio"
   },
   "outputs": [],
   "source": [
    "# Assuming X_train and y_train are your training input and output tensors, and batch_size is the desired batch size.\n",
    "X_test_tensor = torch.tensor(X_test, dtype=torch.float32).to(device)\n",
    "y_test_tensor = torch.tensor(y_test, dtype=torch.long).to(device)\n",
    "# Convert your data to TensorDataset\n",
    "test_dataset = TensorDataset(X_test_tensor, y_test_tensor)\n",
    "\n",
    "# Create a DataLoader for your training dataset\n",
    "test_loader = DataLoader(test_dataset, batch_size=16, shuffle=True)"
   ]
  },
  {
   "cell_type": "code",
   "execution_count": null,
   "metadata": {
    "id": "L0s1t8ApLTin"
   },
   "outputs": [],
   "source": [
    "model.eval()\n",
    "test_loss = 0.0\n",
    "correct = 0\n",
    "total = 0\n",
    "\n",
    "with torch.no_grad():\n",
    "    for inputs, labels in test_loader:\n",
    "        outputs = model(inputs)\n",
    "        loss = criterion(outputs, labels)\n",
    "        test_loss += loss.item()\n",
    "\n",
    "        _, predicted = torch.max(outputs, 1)\n",
    "        total += labels.size(0)\n",
    "        print('predict')\n",
    "        print(predicted)\n",
    "        print('actual')\n",
    "        print(labels)\n",
    "        correct += (predicted.argmax(1) == labels.argmax(1)).sum().item()\n",
    "\n",
    "# Calculate accuracy and average loss\n",
    "accuracy = 100 * correct / total\n",
    "average_loss = test_loss / len(test_loader)\n",
    "\n",
    "print(f'Accuracy on the test set: {accuracy:.2f}%')\n",
    "print(f'Average loss on the test set: {average_loss:.4f}')"
   ]
  },
  {
   "cell_type": "code",
   "execution_count": null,
   "metadata": {
    "id": "3Z5seVH-mCfS"
   },
   "outputs": [],
   "source": [
    "torch.save(model,\"bidigru.pt\")"
   ]
  }
 ],
 "metadata": {
  "accelerator": "GPU",
  "colab": {
   "gpuType": "T4",
   "provenance": []
  },
  "kernelspec": {
   "display_name": "Python 3 (ipykernel)",
   "language": "python",
   "name": "python3"
  },
  "language_info": {
   "codemirror_mode": {
    "name": "ipython",
    "version": 3
   },
   "file_extension": ".py",
   "mimetype": "text/x-python",
   "name": "python",
   "nbconvert_exporter": "python",
   "pygments_lexer": "ipython3",
   "version": "3.10.9"
  }
 },
 "nbformat": 4,
 "nbformat_minor": 1
}
